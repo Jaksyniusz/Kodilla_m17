{
 "cells": [
  {
   "cell_type": "markdown",
   "id": "b865d98b-27a4-47e6-bf78-243dda332a81",
   "metadata": {},
   "source": [
    "# Zadanie: metryki\n",
    "\n",
    "Dla nauczonego modelu policz metryki wspomniane w poznanym module o klasyfikacji na zbiorze testowym oraz policz macierz omyłek."
   ]
  },
  {
   "cell_type": "code",
   "execution_count": 4,
   "id": "0aaf6436-e0f6-42f3-ac47-b16c64ff6921",
   "metadata": {},
   "outputs": [
    {
     "name": "stderr",
     "output_type": "stream",
     "text": [
      "[nltk_data] Downloading package stopwords to\n",
      "[nltk_data]     C:\\Users\\User\\AppData\\Roaming\\nltk_data...\n",
      "[nltk_data]   Package stopwords is already up-to-date!\n",
      "[nltk_data] Downloading package wordnet to\n",
      "[nltk_data]     C:\\Users\\User\\AppData\\Roaming\\nltk_data...\n",
      "[nltk_data]   Package wordnet is already up-to-date!\n"
     ]
    },
    {
     "name": "stdout",
     "output_type": "stream",
     "text": [
      "Fitting 5 folds for each of 108 candidates, totalling 540 fits\n",
      "Najlepsze parametry: {'max_depth': None, 'min_samples_leaf': 1, 'min_samples_split': 10, 'n_estimators': 200}\n",
      "\n",
      "Macierz pomyłek:\n",
      "[[962   4]\n",
      " [ 15 134]]\n"
     ]
    },
    {
     "data": {
      "image/png": "[encoded data removed]",
      "text/plain": [
       "<Figure size 800x600 with 2 Axes>"
      ]
     },
     "metadata": {},
     "output_type": "display_data"
    },
    {
     "name": "stdout",
     "output_type": "stream",
     "text": [
      "\n",
      "Metryki klasyfikacji:\n",
      "Accuracy (Dokładność): 0.9830\n",
      "Precision (Precyzja): 0.9710\n",
      "Recall (Czułość): 0.8993\n",
      "F1-score: 0.9338\n",
      "\n",
      "Szczegółowy raport klasyfikacji:\n",
      "              precision    recall  f1-score   support\n",
      "\n",
      "         Ham       0.98      1.00      0.99       966\n",
      "        Spam       0.97      0.90      0.93       149\n",
      "\n",
      "    accuracy                           0.98      1115\n",
      "   macro avg       0.98      0.95      0.96      1115\n",
      "weighted avg       0.98      0.98      0.98      1115\n",
      "\n",
      "AUC-ROC: 0.9780\n",
      "Balanced Accuracy: 0.9476\n",
      "Average Precision: 0.9562\n"
     ]
    }
   ],
   "source": [
    "import pandas as pd\n",
    "import numpy as np\n",
    "import nltk\n",
    "from nltk.corpus import stopwords\n",
    "from nltk.stem import WordNetLemmatizer\n",
    "from sklearn.feature_extraction.text import TfidfVectorizer\n",
    "from sklearn.model_selection import train_test_split, GridSearchCV\n",
    "from sklearn.ensemble import RandomForestClassifier\n",
    "from sklearn.metrics import (confusion_matrix, precision_score, recall_score, \n",
    "                            f1_score, roc_auc_score, accuracy_score, \n",
    "                            classification_report, balanced_accuracy_score,\n",
    "                            average_precision_score)\n",
    "import seaborn as sns\n",
    "import matplotlib.pyplot as plt\n",
    "\n",
    "# 1. Ładowanie i przygotowanie danych\n",
    "spam_dataset = pd.read_csv('spam.csv', encoding=\"ISO-8859-1\", usecols=[0, 1], names=['Spam', 'Text'], skiprows=1)\n",
    "spam_dataset['Spam'] = spam_dataset['Spam'].map({'ham': 0, 'spam': 1}).astype(int)\n",
    "\n",
    "# 2. Czyszczenie tekstu\n",
    "nltk.download('stopwords')\n",
    "nltk.download('wordnet')\n",
    "\n",
    "stop_words = set(stopwords.words('english'))\n",
    "lemmatizer = WordNetLemmatizer()\n",
    "\n",
    "def clean_text(text):\n",
    "    text = ''.join([char for char in text if char.isalpha() or char == ' '])\n",
    "    text = text.lower()\n",
    "    words = text.split()\n",
    "    words = [lemmatizer.lemmatize(word) for word in words if word not in stop_words]\n",
    "    return ' '.join(words)\n",
    "\n",
    "spam_dataset['Cleaned_Text'] = spam_dataset['Text'].apply(clean_text)\n",
    "\n",
    "# 3. Wektoryzacja i podział danych\n",
    "tfidf = TfidfVectorizer()\n",
    "X = tfidf.fit_transform(spam_dataset['Cleaned_Text'])\n",
    "y = spam_dataset['Spam']\n",
    "\n",
    "X_train, X_test, y_train, y_test = train_test_split(\n",
    "    X, y, test_size=0.2, random_state=42, stratify=y\n",
    ")\n",
    "\n",
    "# 4. Trenowanie modelu RandomForest z GridSearch\n",
    "param_grid = {\n",
    "    'n_estimators': [50, 100, 200],\n",
    "    'max_depth': [None, 10, 20, 30],\n",
    "    'min_samples_split': [2, 5, 10],\n",
    "    'min_samples_leaf': [1, 2, 4]\n",
    "}\n",
    "\n",
    "rf_tuned = GridSearchCV(\n",
    "    RandomForestClassifier(class_weight='balanced', random_state=42),\n",
    "    param_grid,\n",
    "    cv=5,\n",
    "    n_jobs=-1,\n",
    "    verbose=1\n",
    ")\n",
    "rf_tuned.fit(X_train, y_train)\n",
    "\n",
    "# 5. Obliczanie i wyświetlanie metryk\n",
    "print(\"Najlepsze parametry:\", rf_tuned.best_params_)\n",
    "\n",
    "# Predykcje\n",
    "y_pred = rf_tuned.predict(X_test)\n",
    "y_pred_proba = rf_tuned.predict_proba(X_test)[:, 1]\n",
    "\n",
    "# Macierz pomyłek\n",
    "cm = confusion_matrix(y_test, y_pred)\n",
    "print(\"\\nMacierz pomyłek:\")\n",
    "print(cm)\n",
    "\n",
    "# Wizualizacja macierzy pomyłek\n",
    "plt.figure(figsize=(8, 6))\n",
    "sns.heatmap(cm, annot=True, fmt='d', cmap='Blues', \n",
    "            xticklabels=['Ham (0)', 'Spam (1)'], \n",
    "            yticklabels=['Ham (0)', 'Spam (1)'])\n",
    "plt.title('Macierz pomyłek')\n",
    "plt.ylabel('Prawdziwe etykiety')\n",
    "plt.xlabel('Przewidziane etykiety')\n",
    "plt.show()\n",
    "\n",
    "# Podstawowe metryki\n",
    "print(\"\\nMetryki klasyfikacji:\")\n",
    "print(f\"Accuracy (Dokładność): {accuracy_score(y_test, y_pred):.4f}\")\n",
    "print(f\"Precision (Precyzja): {precision_score(y_test, y_pred):.4f}\")\n",
    "print(f\"Recall (Czułość): {recall_score(y_test, y_pred):.4f}\")\n",
    "print(f\"F1-score: {f1_score(y_test, y_pred):.4f}\")\n",
    "\n",
    "# Szczegółowy raport\n",
    "print(\"\\nSzczegółowy raport klasyfikacji:\")\n",
    "print(classification_report(y_test, y_pred, target_names=['Ham', 'Spam']))\n",
    "\n",
    "# Metryki probabilistyczne\n",
    "print(f\"AUC-ROC: {roc_auc_score(y_test, y_pred_proba):.4f}\")\n",
    "print(f\"Balanced Accuracy: {balanced_accuracy_score(y_test, y_pred):.4f}\")\n",
    "print(f\"Average Precision: {average_precision_score(y_test, y_pred_proba):.4f}\")"
   ]
  }
 ],
 "metadata": {
  "kernelspec": {
   "display_name": "Python [conda env:base] *",
   "language": "python",
   "name": "conda-base-py"
  },
  "language_info": {
   "codemirror_mode": {
    "name": "ipython",
    "version": 3
   },
   "file_extension": ".py",
   "mimetype": "text/x-python",
   "name": "python",
   "nbconvert_exporter": "python",
   "pygments_lexer": "ipython3",
   "version": "3.12.3"
  }
 },
 "nbformat": 4,
 "nbformat_minor": 5
}
